{
 "cells": [
  {
   "cell_type": "markdown",
   "metadata": {
    "id": "NDtM99_pMCAP"
   },
   "source": [
    "# Preprocessing and Model Fine-tuning\n"
   ]
  },
  {
   "cell_type": "code",
   "execution_count": null,
   "metadata": {
    "id": "ctz7mmcJdkfd",
    "outputId": "f18891f4-22a4-49f4-e964-cecbfb022f9c"
   },
   "outputs": [
    {
     "name": "stdout",
     "output_type": "stream",
     "text": [
      "Device: cuda\n"
     ]
    }
   ],
   "source": [
    "import torch\n",
    "print(\"Device:\", torch.device(\"cuda\" if torch.cuda.is_available() else \"cpu\"))"
   ]
  },
  {
   "cell_type": "code",
   "execution_count": null,
   "metadata": {
    "id": "kEG4afqXdkfh"
   },
   "outputs": [],
   "source": [
    "!pip install -q transformers datasets sentencepiece\n",
    "!pip install scikit-learn\n",
    "\n",
    "import pandas as pd\n",
    "\n",
    "import re\n",
    "from sklearn.model_selection import train_test_split\n",
    "from transformers import AutoTokenizer, AutoModelForSeq2SeqLM, Seq2SeqTrainer, Seq2SeqTrainingArguments, DataCollatorForSeq2Seq\n",
    "import torch\n",
    "\n",
    "df = pd.read_csv(r\"C:\\Users\\GAMING\\Downloads\\simplification_dataset_clean.csv\")"
   ]
  },
  {
   "cell_type": "markdown",
   "metadata": {
    "id": "qJecL9UvNpSv"
   },
   "source": [
    "## Data Cleaning"
   ]
  },
  {
   "cell_type": "code",
   "execution_count": null,
   "metadata": {
    "id": "DW8p2ZlCMzUd"
   },
   "outputs": [],
   "source": [
    "def clean_text(text):\n",
    "    text = text.strip()  # remove leading/trailing spaces\n",
    "    text = text.lower()  # lowercase\n",
    "    text = re.sub(r'\\s+', ' ', text)  # collapse multiple spaces\n",
    "    text = re.sub(r'[^\\x00-\\x7F]+', '', text)  # remove non-ASCII (optional)\n",
    "    return text\n",
    "\n",
    "# Apply cleaning\n",
    "df['source_text'] = df['source_text'].apply(clean_text)\n",
    "df['target_text'] = df['target_text'].apply(clean_text)"
   ]
  },
  {
   "cell_type": "markdown",
   "metadata": {
    "id": "roxn_mwmOCsT"
   },
   "source": [
    "## Train/Test split"
   ]
  },
  {
   "cell_type": "code",
   "execution_count": null,
   "metadata": {
    "id": "1K8PSitLOC8X"
   },
   "outputs": [],
   "source": [
    "train_df, val_df = train_test_split(df, test_size=0.1, random_state=42)\n",
    "train_df.to_csv(r\"E:\\train_dataset.csv\", index=False)\n",
    "val_df.to_csv(r\"E:\\val_dataset.csv\", index=False)"
   ]
  },
  {
   "cell_type": "markdown",
   "metadata": {
    "id": "5ZKPubX6OX7c"
   },
   "source": [
    "## Load Pre-trained Simplification Model (T5-small)"
   ]
  },
  {
   "cell_type": "code",
   "execution_count": null,
   "metadata": {
    "id": "e1hHmpjbOYG6",
    "outputId": "9ece5345-4706-43ba-8630-1caefb8409ba"
   },
   "outputs": [
    {
     "name": "stdout",
     "output_type": "stream",
     "text": [
      "Collecting hf_xet\n",
      "  Downloading hf_xet-1.1.10-cp37-abi3-win_amd64.whl.metadata (4.7 kB)\n",
      "Downloading hf_xet-1.1.10-cp37-abi3-win_amd64.whl (2.8 MB)\n",
      "   ---------------------------------------- 0.0/2.8 MB ? eta -:--:--\n",
      "   --- ------------------------------------ 0.3/2.8 MB ? eta -:--:--\n",
      "   ----------- ---------------------------- 0.8/2.8 MB 1.7 MB/s eta 0:00:02\n",
      "   -------------- ------------------------- 1.0/2.8 MB 2.1 MB/s eta 0:00:01\n",
      "   ---------------------- ----------------- 1.6/2.8 MB 2.0 MB/s eta 0:00:01\n",
      "   --------------------------------- ------ 2.4/2.8 MB 2.2 MB/s eta 0:00:01\n",
      "   ---------------------------------------- 2.8/2.8 MB 2.3 MB/s  0:00:01\n",
      "Installing collected packages: hf_xet\n",
      "Successfully installed hf_xet-1.1.10\n"
     ]
    }
   ],
   "source": [
    "!pip install hf_xet\n",
    "MODEL_NAME = \"t5-small\"\n",
    "tokenizer = AutoTokenizer.from_pretrained(MODEL_NAME)\n",
    "model = AutoModelForSeq2SeqLM.from_pretrained(MODEL_NAME)"
   ]
  },
  {
   "cell_type": "markdown",
   "metadata": {
    "id": "3ofoNsU5OydL"
   },
   "source": [
    "## Tokenize and encode source/target sentences"
   ]
  },
  {
   "cell_type": "code",
   "execution_count": null,
   "metadata": {
    "id": "_MlkAN8sOytt",
    "outputId": "cb075ae0-7a4e-413d-ac64-d22fa4533d34"
   },
   "outputs": [
    {
     "name": "stdout",
     "output_type": "stream",
     "text": [
      "Tokenizing training dataset: 100%|██████████| 97467/97467 [00:35<00:00, 2741.72 examples/s]\n",
      "Tokenizing validation dataset: 100%|██████████| 10830/10830 [00:03<00:00, 3109.59 examples/s]\n"
     ]
    }
   ],
   "source": [
    "from datasets import Dataset\n",
    "\n",
    "MAX_INPUT_LENGTH = 128\n",
    "MAX_TARGET_LENGTH = 128\n",
    "\n",
    "def preprocess_function(examples):\n",
    "    inputs = examples['source_text']\n",
    "    targets = examples['target_text']\n",
    "\n",
    "    model_inputs = tokenizer(\n",
    "        inputs,\n",
    "        max_length=MAX_INPUT_LENGTH,\n",
    "        truncation=True,\n",
    "        padding=\"max_length\"\n",
    "    )\n",
    "\n",
    "    labels = tokenizer(\n",
    "        text_target=targets,\n",
    "        max_length=MAX_TARGET_LENGTH,\n",
    "        truncation=True,\n",
    "        padding=\"max_length\"\n",
    "    )\n",
    "    model_inputs[\"labels\"] = labels[\"input_ids\"]\n",
    "\n",
    "    return model_inputs\n",
    "\n",
    "train_dataset = Dataset.from_pandas(train_df)\n",
    "val_dataset = Dataset.from_pandas(val_df)\n",
    "\n",
    "print(\"Tokenizing training dataset:\", end=\" \")\n",
    "train_dataset = train_dataset.map(preprocess_function, batched=True)\n",
    "print(\"Tokenizing validation dataset:\", end=\" \")\n",
    "val_dataset = val_dataset.map(preprocess_function, batched=True)\n",
    "\n",
    "columns_to_keep = [\"input_ids\", \"attention_mask\", \"labels\"]\n",
    "train_dataset.set_format(type=\"torch\", columns=columns_to_keep)\n",
    "val_dataset.set_format(type=\"torch\", columns=columns_to_keep)"
   ]
  },
  {
   "cell_type": "markdown",
   "metadata": {
    "id": "LC-_g_EJPe42"
   },
   "source": [
    "## Training Arguments"
   ]
  },
  {
   "cell_type": "code",
   "execution_count": null,
   "metadata": {
    "id": "cLX-X_zVPdML"
   },
   "outputs": [],
   "source": [
    "from transformers import Seq2SeqTrainingArguments\n",
    "data_collator = DataCollatorForSeq2Seq(tokenizer, model=model)\n",
    "training_args = Seq2SeqTrainingArguments(\n",
    "    output_dir=\"./t5_simplification\",\n",
    "    eval_strategy=\"steps\",\n",
    "    save_strategy=\"steps\",\n",
    "    save_steps=1000,\n",
    "    eval_steps=1000,\n",
    "    logging_steps=200,\n",
    "    learning_rate=5e-5,\n",
    "    per_device_train_batch_size=4,\n",
    "    per_device_eval_batch_size=4,\n",
    "    gradient_accumulation_steps=8,\n",
    "    weight_decay=0.01,\n",
    "    save_total_limit=2,\n",
    "    num_train_epochs=3,\n",
    "    predict_with_generate=True,\n",
    "    fp16=True,\n",
    "    push_to_hub=False\n",
    ")"
   ]
  },
  {
   "cell_type": "markdown",
   "metadata": {
    "id": "J07bRzQbQaGG"
   },
   "source": [
    "## Training"
   ]
  },
  {
   "cell_type": "code",
   "execution_count": null,
   "metadata": {
    "id": "WC_Tb5OWm2Ci",
    "outputId": "d4b50498-3201-453f-80c6-6ba64efe4911"
   },
   "outputs": [
    {
     "name": "stdout",
     "output_type": "stream",
     "text": [
      "Training Progress: [9138/9138 14:21:51, Epoch 3/3]\n",
      "\n",
      "Step | Training Loss | Validation Loss\n",
      "-----|--------------|----------------\n",
      "1000 | 0.242100     | 0.225193\n",
      "2000 | 0.236300     | 0.218573\n",
      "3000 | 0.231000     | 0.214652\n",
      "4000 | 0.226800     | 0.212884\n",
      "5000 | 0.224700     | 0.211309\n",
      "6000 | 0.225700     | 0.210139\n",
      "7000 | 0.225700     | 0.209595\n",
      "8000 | 0.218700     | 0.209358\n",
      "9000 | 0.224400     | 0.208971\n",
      "\n",
      "TrainOutput(global_step=9138, training_loss=0.25559080661999944, metrics={'train_runtime': 51716.5227, 'train_samples_per_second': 5.654, 'train_steps_per_second': 0.177, 'total_flos': 9893519523053568.0, 'train_loss': 0.25559080661999944, 'epoch': 3.0})\n"
     ]
    }
   ],
   "source": [
    "import numpy as np\n",
    "\n",
    "def numpy_collator(features):\n",
    "    batch = data_collator(features)\n",
    "    batch[\"labels\"] = torch.tensor(np.array(batch[\"labels\"]), dtype=torch.int64)\n",
    "    return batch\n",
    "\n",
    "trainer = Seq2SeqTrainer(\n",
    "    model=model,\n",
    "    args=training_args,\n",
    "    train_dataset=train_dataset,\n",
    "    eval_dataset=val_dataset,\n",
    "    processing_class=tokenizer,\n",
    "    data_collator=data_collator\n",
    ")\n",
    "\n",
    "trainer.train()"
   ]
  },
  {
   "cell_type": "markdown",
   "metadata": {
    "id": "XgwlMvOzwbk2"
   },
   "source": [
    "Insights:\n",
    "- Small gap between train/val → no strong overfitting.  \n",
    "- Validation loss stayed stable → model generalizes well.  \n"
   ]
  },
  {
   "cell_type": "code",
   "execution_count": null,
   "metadata": {
    "id": "Kb5ieFlxQr3T",
    "outputId": "2f563572-82b5-4dde-efcf-812994551db6"
   },
   "outputs": [
    {
     "data": {
      "text/plain": [
       "('E:\\\\simplification_model\\\\tokenizer_config.json',\n",
       " 'E:\\\\simplification_model\\\\special_tokens_map.json',\n",
       " 'E:\\\\simplification_model\\\\spiece.model',\n",
       " 'E:\\\\simplification_model\\\\added_tokens.json',\n",
       " 'E:\\\\simplification_model\\\\tokenizer.json')"
      ]
     },
     "execution_count": 23,
     "metadata": {},
     "output_type": "execute_result"
    }
   ],
   "source": [
    "model.save_pretrained(r\"E:\\simplification_model\")\n",
    "tokenizer.save_pretrained(r\"E:\\simplification_model\")"
   ]
  },
  {
   "cell_type": "code",
   "execution_count": null,
   "metadata": {
    "id": "yvGjA4KVdkfy"
   },
   "outputs": [],
   "source": []
  }
 ],
 "metadata": {
  "colab": {
   "provenance": []
  },
  "kernelspec": {
   "display_name": "Python (T5Env)",
   "language": "python",
   "name": "t5env"
  },
  "language_info": {
   "codemirror_mode": {
    "name": "ipython",
    "version": 3
   },
   "file_extension": ".py",
   "mimetype": "text/x-python",
   "name": "python",
   "nbconvert_exporter": "python",
   "pygments_lexer": "ipython3",
   "version": "3.12.11"
  }
 },
 "nbformat": 4,
 "nbformat_minor": 0
}