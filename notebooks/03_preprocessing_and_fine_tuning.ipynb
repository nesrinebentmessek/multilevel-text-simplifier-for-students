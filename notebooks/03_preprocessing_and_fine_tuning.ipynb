{
  "nbformat": 4,
  "nbformat_minor": 0,
  "metadata": {
    "colab": {
      "provenance": [],
      "gpuType": "T4"
    },
    "kernelspec": {
      "name": "python3",
      "display_name": "Python 3"
    },
    "language_info": {
      "name": "python"
    },
    "accelerator": "GPU"
  },
  "cells": [
    {
      "cell_type": "markdown",
      "source": [
        "# Preprocessing and Model Fine-tuning\n"
      ],
      "metadata": {
        "id": "NDtM99_pMCAP"
      }
    },
    {
      "cell_type": "code",
      "source": [
        "!pip install -q transformers datasets sentencepiece\n",
        "import pandas as pd\n",
        "import seaborn as sns\n",
        "import re\n",
        "from sklearn.model_selection import train_test_split\n",
        "from transformers import AutoTokenizer, AutoModelForSeq2SeqLM, Seq2SeqTrainer, Seq2SeqTrainingArguments, DataCollatorForSeq2Seq\n",
        "import torch\n",
        "\n",
        "\n",
        "from google.colab import drive\n",
        "drive.mount('/content/drive')\n",
        "\n",
        "df = pd.read_csv(\"/content/drive/MyDrive/all_levels_with_readability.csv\")"
      ],
      "metadata": {
        "colab": {
          "base_uri": "https://localhost:8080/"
        },
        "id": "k83BSKUtN6tV",
        "executionInfo": {
          "status": "ok",
          "timestamp": 1757754629752,
          "user_tz": -120,
          "elapsed": 14889,
          "user": {
            "displayName": "Nesrine Ben Tmessek",
            "userId": "08058760270954253024"
          }
        },
        "outputId": "4320a8c7-46a0-4c99-a083-b47b8fefe0a0"
      },
      "execution_count": 3,
      "outputs": [
        {
          "output_type": "stream",
          "name": "stdout",
          "text": [
            "Mounted at /content/drive\n"
          ]
        }
      ]
    },
    {
      "cell_type": "markdown",
      "source": [
        "## Data Cleaning"
      ],
      "metadata": {
        "id": "qJecL9UvNpSv"
      }
    },
    {
      "cell_type": "code",
      "source": [
        "def clean_text(text):\n",
        "    text = text.strip()  # remove leading/trailing spaces\n",
        "    text = text.lower()  # lowercase\n",
        "    text = re.sub(r'\\s+', ' ', text)  # collapse multiple spaces\n",
        "    text = re.sub(r'[^\\x00-\\x7F]+', '', text)  # remove non-ASCII (optional)\n",
        "    return text\n",
        "\n",
        "# Apply cleaning\n",
        "df['source_text'] = df['source_text'].apply(clean_text)\n",
        "df['target_text'] = df['target_text'].apply(clean_text)"
      ],
      "metadata": {
        "id": "DW8p2ZlCMzUd",
        "executionInfo": {
          "status": "ok",
          "timestamp": 1757754636718,
          "user_tz": -120,
          "elapsed": 350,
          "user": {
            "displayName": "Nesrine Ben Tmessek",
            "userId": "08058760270954253024"
          }
        }
      },
      "execution_count": 4,
      "outputs": []
    },
    {
      "cell_type": "markdown",
      "source": [
        "## Train/Test split"
      ],
      "metadata": {
        "id": "roxn_mwmOCsT"
      }
    },
    {
      "cell_type": "code",
      "source": [
        "train_df, val_df = train_test_split(df, test_size=0.1, random_state=42)\n",
        "print(\"Train size:\", train_df.shape)\n",
        "print(\"Validation size:\", val_df.shape)"
      ],
      "metadata": {
        "colab": {
          "base_uri": "https://localhost:8080/"
        },
        "id": "1K8PSitLOC8X",
        "executionInfo": {
          "status": "ok",
          "timestamp": 1757754637671,
          "user_tz": -120,
          "elapsed": 19,
          "user": {
            "displayName": "Nesrine Ben Tmessek",
            "userId": "08058760270954253024"
          }
        },
        "outputId": "73e8c4eb-d03e-461d-a0bb-3a1743c0b9c5"
      },
      "execution_count": 5,
      "outputs": [
        {
          "output_type": "stream",
          "name": "stdout",
          "text": [
            "Train size: (5405, 8)\n",
            "Validation size: (601, 8)\n"
          ]
        }
      ]
    },
    {
      "cell_type": "markdown",
      "source": [
        "## Load Pre-trained Simplification Model (T5-small)"
      ],
      "metadata": {
        "id": "5ZKPubX6OX7c"
      }
    },
    {
      "cell_type": "code",
      "source": [
        "MODEL_NAME = \"t5-small\"  # smaller model for Colab free GPU\n",
        "tokenizer = AutoTokenizer.from_pretrained(MODEL_NAME)\n",
        "model = AutoModelForSeq2SeqLM.from_pretrained(MODEL_NAME)"
      ],
      "metadata": {
        "colab": {
          "base_uri": "https://localhost:8080/",
          "height": 333,
          "referenced_widgets": [
            "f83c0a0490ef4abcbddcfadf935d6003",
            "da48462346f946ee87470e489ca858cd",
            "c817e19f9a044a97bd9c9e266ab8d8f4",
            "54560afcf294492891171e94a2141c06",
            "47deca0189f34594bd752a1127dbab0b",
            "3e987f65015f4858898c4c69e626fe91",
            "69c6323c28af4f3e885fcddc9ede319b",
            "f8d064b28723491eb4024a085433338c",
            "d2bae035dd2c4e8e9475cb5fef161687",
            "272210d26ccd4db5a3262242dd4ad2a6",
            "66585fb289ac44b3b756e96717f9d0b2",
            "c2cb8af13ba847969adc7ff650c61339",
            "1fe12bedc36841628f93ff932368666d",
            "48f68d4c4b554a4cba6b199eb315854f",
            "962e9a0d4bf642f4baaca972a8a01f97",
            "b4eb4c1394504e64ad89d9a532e6db49",
            "3f982f0361c84023baaddb8f8ef4b2da",
            "5ade2d89e965475a843d80e62b3b5182",
            "18ffdeb980bd4104a74bacefe24408ff",
            "9e610b4d5472489dbe03b546ca800ef5",
            "8d408fcee7fa496ca05e0a0857027ff9",
            "e7c735adab1b4cca94a48e103bc3500b",
            "0df030c78db74dbdbf41d35470254923",
            "8daa1ca5d5dc43a090c182d24fbd2ce3",
            "efe973e423f34c6baaecc71ba9f47341",
            "6621cf4e9eaa488f98b6347d2d7c006f",
            "49332f0a352243b486ab1d133f9b59ff",
            "4d319cdce90848bd868ee2d5ce2a1825",
            "51a39b90b8a24675b43857caa8432c79",
            "f1e5aaa8c47347d6b9f0c07f8846b255",
            "92d874afa4024ad282766925c4ef88a1",
            "4cd154d7220044cba4e28b433c5200c1",
            "ecfc7c372ec243e7b6556dca231ad7a3",
            "5b3d9cdb29e943caa4b0520bc38c6900",
            "b49fe8997ee54e5482bd656fcf5692ad",
            "b70654c004b14583b48f7866a7484a5f",
            "132bc219682745b59deb1d7701efcb5b",
            "85edd039ea744462972579984c41029d",
            "53462bcd572b46d6ab4370624f61990a",
            "4b656698b8b5400aa7d97e9b5ce6a9ec",
            "bb820c934076415ca94af9ad09793b30",
            "9375dca5e5a8478cb9c3a64daeac1bb2",
            "34b7363e5c9d4250be72459514cb7288",
            "fe6cb724a1c54b6cba0d7b1baf82ee55",
            "8e9562c1102740ee91ce787567d2b5ef",
            "568dad8190db4f799629be0f22c86ab2",
            "7904d8a5cb2c4f13b0c8c15916190f2b",
            "b40bb4761a95442cb8538d8e3439654d",
            "e500a64e01f747168df00a8176a2844c",
            "53ba43fe3b4248ef9912fee35ad85352",
            "0924aadd123c498b8f031a6a09c1f927",
            "0408b39d2781405faacf15b26129c829",
            "8b48ae540a9849f7b7e5a21c61241de9",
            "37ae84fda8c548248557ce5d1207e5d0",
            "31c32da7e44f41e59a2cecb89aeb1b12",
            "baba1ce9d83b4387a9483cd591914a43",
            "2ff5c36e978942f0ad47c67efca2a909",
            "7ee1220dc1144104b53b70095a91c3b0",
            "ff128c9ff3f04f559da0b354b8b32bf2",
            "7665129427174b1da5ced3bbadf1f0d9",
            "dff65fe6c0014ac28efd90430831c658",
            "413176dd08c44c23881196c27791c5dd",
            "f423e2c1228347bba32d06896a8b69b3",
            "f817c4f298de4565a7d0650cf8edf139",
            "3595ba47b8544e708a71ba1b008cfb12",
            "8f63f13902294b6eb1dbd320c79f4daf"
          ]
        },
        "id": "e1hHmpjbOYG6",
        "executionInfo": {
          "status": "ok",
          "timestamp": 1757754647887,
          "user_tz": -120,
          "elapsed": 8552,
          "user": {
            "displayName": "Nesrine Ben Tmessek",
            "userId": "08058760270954253024"
          }
        },
        "outputId": "9ece5345-4706-43ba-8630-1caefb8409ba"
      },
      "execution_count": 6,
      "outputs": [
        {
          "output_type": "display_data",
          "data": {
            "text/plain": [
              "tokenizer_config.json:   0%|          | 0.00/2.32k [00:00<?, ?B/s]"
            ],
            "application/vnd.jupyter.widget-view+json": {
              "version_major": 2,
              "version_minor": 0,
              "model_id": "f83c0a0490ef4abcbddcfadf935d6003"
            }
          },
          "metadata": {}
        },
        {
          "output_type": "display_data",
          "data": {
            "text/plain": [
              "spiece.model:   0%|          | 0.00/792k [00:00<?, ?B/s]"
            ],
            "application/vnd.jupyter.widget-view+json": {
              "version_major": 2,
              "version_minor": 0,
              "model_id": "c2cb8af13ba847969adc7ff650c61339"
            }
          },
          "metadata": {}
        },
        {
          "output_type": "display_data",
          "data": {
            "text/plain": [
              "tokenizer.json:   0%|          | 0.00/1.39M [00:00<?, ?B/s]"
            ],
            "application/vnd.jupyter.widget-view+json": {
              "version_major": 2,
              "version_minor": 0,
              "model_id": "0df030c78db74dbdbf41d35470254923"
            }
          },
          "metadata": {}
        },
        {
          "output_type": "display_data",
          "data": {
            "text/plain": [
              "config.json:   0%|          | 0.00/1.21k [00:00<?, ?B/s]"
            ],
            "application/vnd.jupyter.widget-view+json": {
              "version_major": 2,
              "version_minor": 0,
              "model_id": "5b3d9cdb29e943caa4b0520bc38c6900"
            }
          },
          "metadata": {}
        },
        {
          "output_type": "display_data",
          "data": {
            "text/plain": [
              "model.safetensors:   0%|          | 0.00/242M [00:00<?, ?B/s]"
            ],
            "application/vnd.jupyter.widget-view+json": {
              "version_major": 2,
              "version_minor": 0,
              "model_id": "8e9562c1102740ee91ce787567d2b5ef"
            }
          },
          "metadata": {}
        },
        {
          "output_type": "display_data",
          "data": {
            "text/plain": [
              "generation_config.json:   0%|          | 0.00/147 [00:00<?, ?B/s]"
            ],
            "application/vnd.jupyter.widget-view+json": {
              "version_major": 2,
              "version_minor": 0,
              "model_id": "baba1ce9d83b4387a9483cd591914a43"
            }
          },
          "metadata": {}
        }
      ]
    },
    {
      "cell_type": "markdown",
      "source": [
        "## Tokenize and encode source/target sentences"
      ],
      "metadata": {
        "id": "3ofoNsU5OydL"
      }
    },
    {
      "cell_type": "code",
      "source": [
        "MAX_INPUT_LENGTH = 128\n",
        "MAX_TARGET_LENGTH = 128\n",
        "\n",
        "def preprocess_function(examples):\n",
        "    inputs = examples['source_text']\n",
        "    targets = examples['target_text']\n",
        "    model_inputs = tokenizer(inputs, max_length=MAX_INPUT_LENGTH, truncation=True, padding='max_length')\n",
        "    with tokenizer.as_target_tokenizer():\n",
        "        labels = tokenizer(targets, max_length=MAX_TARGET_LENGTH, truncation=True, padding='max_length')\n",
        "    model_inputs[\"labels\"] = labels[\"input_ids\"]\n",
        "    return model_inputs\n",
        "\n",
        "from datasets import Dataset\n",
        "\n",
        "train_dataset = Dataset.from_pandas(train_df)\n",
        "val_dataset = Dataset.from_pandas(val_df)\n",
        "\n",
        "train_dataset = train_dataset.map(preprocess_function, batched=True)\n",
        "val_dataset = val_dataset.map(preprocess_function, batched=True)\n",
        "\n",
        "columns_to_keep = [\"input_ids\", \"attention_mask\", \"labels\"]\n",
        "train_dataset.set_format(type=\"torch\", columns=columns_to_keep)\n",
        "val_dataset.set_format(type=\"torch\", columns=columns_to_keep)"
      ],
      "metadata": {
        "colab": {
          "base_uri": "https://localhost:8080/",
          "height": 136,
          "referenced_widgets": [
            "ba3f6ef9907f49b8acead35fe9b5e434",
            "69043bcbdf2140da8350fcbbb51bfbd7",
            "a61d28bf2f644406844c10698f574fb2",
            "a5b08ecf75ae4f2aa5147e732cad18d6",
            "b7464f7d5a2144b59b1f41c9bbd26156",
            "2bf001feff1446f78ffeab37357aa3ca",
            "7c9ce786453042b88be7d6b500dab036",
            "47bf562ed7614e9b89f95460c3f04348",
            "6d6b34b9c1c44efaab75b19bfe987895",
            "e8c878efb8df4be38fc7d263511b6632",
            "946a4d9128cd41769a145f717d3ee151",
            "0a9890e90825414694c2a6f78da85f04",
            "f2dad25530304d4a933346eb33732b29",
            "26a5f2baf7214922a541824bc43e2e62",
            "37807b5deea84e7ba29d73e529f5a66d",
            "04f576dbaa6046aeaa38f6b00476e625",
            "866453d5f7344d12912abfa5264879df",
            "8895888e16c94a9e8cdc0430430a8eed",
            "134bea77d16d4b8db01083af623192c8",
            "232ee54935594a7f8c98ae7bb6fcf59a",
            "db122d183f944433a45ca8a5c50e2e02",
            "af7c73bb5b4e44769e00f4d56a1dcb44"
          ]
        },
        "id": "_MlkAN8sOytt",
        "executionInfo": {
          "status": "ok",
          "timestamp": 1757754655473,
          "user_tz": -120,
          "elapsed": 5225,
          "user": {
            "displayName": "Nesrine Ben Tmessek",
            "userId": "08058760270954253024"
          }
        },
        "outputId": "cb075ae0-7a4e-413d-ac64-d22fa4533d34"
      },
      "execution_count": 7,
      "outputs": [
        {
          "output_type": "display_data",
          "data": {
            "text/plain": [
              "Map:   0%|          | 0/5405 [00:00<?, ? examples/s]"
            ],
            "application/vnd.jupyter.widget-view+json": {
              "version_major": 2,
              "version_minor": 0,
              "model_id": "ba3f6ef9907f49b8acead35fe9b5e434"
            }
          },
          "metadata": {}
        },
        {
          "output_type": "display_data",
          "data": {
            "text/plain": [
              "Map:   0%|          | 0/601 [00:00<?, ? examples/s]"
            ],
            "application/vnd.jupyter.widget-view+json": {
              "version_major": 2,
              "version_minor": 0,
              "model_id": "0a9890e90825414694c2a6f78da85f04"
            }
          },
          "metadata": {}
        }
      ]
    },
    {
      "cell_type": "markdown",
      "source": [
        "To prepare the dataset for model we :\n",
        "\n",
        "- Convert raw text to **token IDs** so the model can process it.\n",
        "- Inputs: `source_text` (complex sentence)\n",
        "- Targets: `target_text` (simplified sentence)\n",
        "- Tokenization includes **truncation** and **padding** to fixed length.\n",
        "- Use `map()` to apply preprocessing to the whole dataset.\n",
        "- `set_format` converts to **PyTorch tensors** and keeps only required columns: `input_ids`, `attention_mask`, `labels`.\n",
        "\n",
        "input_ids → tokenized source sentences\n",
        "\n",
        "attention_mask → which tokens are real vs padding\n",
        "\n",
        "labels → tokenized target sentences"
      ],
      "metadata": {
        "id": "zyphKjhOPdAU"
      }
    },
    {
      "cell_type": "markdown",
      "source": [
        "## Training Arguments"
      ],
      "metadata": {
        "id": "LC-_g_EJPe42"
      }
    },
    {
      "cell_type": "code",
      "source": [
        "from transformers import Seq2SeqTrainingArguments\n",
        "data_collator = DataCollatorForSeq2Seq(tokenizer, model=model)\n",
        "training_args = Seq2SeqTrainingArguments(\n",
        "    output_dir=\"/content/T5_finetuned_\",\n",
        "    eval_strategy=\"steps\",\n",
        "    eval_steps=50,\n",
        "    save_strategy=\"steps\",\n",
        "    save_steps=50,\n",
        "    logging_steps=50,\n",
        "    learning_rate=3e-5,\n",
        "    per_device_train_batch_size=4,\n",
        "    per_device_eval_batch_size=4,\n",
        "    weight_decay=0.01,\n",
        "    save_total_limit=2,\n",
        "    num_train_epochs=5,\n",
        "    predict_with_generate=True,\n",
        "    fp16=True,\n",
        "    push_to_hub=False,\n",
        "    report_to=[]\n",
        ")"
      ],
      "metadata": {
        "id": "cLX-X_zVPdML",
        "executionInfo": {
          "status": "ok",
          "timestamp": 1757754662391,
          "user_tz": -120,
          "elapsed": 423,
          "user": {
            "displayName": "Nesrine Ben Tmessek",
            "userId": "08058760270954253024"
          }
        }
      },
      "execution_count": 8,
      "outputs": []
    },
    {
      "cell_type": "markdown",
      "source": [
        "## Training"
      ],
      "metadata": {
        "id": "J07bRzQbQaGG"
      }
    },
    {
      "cell_type": "code",
      "source": [
        "seed=42\n",
        "trainer = Seq2SeqTrainer(\n",
        "    model=model,\n",
        "    args=training_args,\n",
        "    train_dataset=train_dataset,\n",
        "    eval_dataset=val_dataset,\n",
        "    processing_class=tokenizer,\n",
        "    data_collator=data_collator\n",
        ")\n",
        "checkpoint_path = \"/content/drive/MyDrive/checkpoint-5900\"\n",
        "\n",
        "tokenizer = AutoTokenizer.from_pretrained(checkpoint_path)\n",
        "model = AutoModelForSeq2SeqLM.from_pretrained(checkpoint_path)\n",
        "\n",
        "trainer.train(resume_from_checkpoint=checkpoint_path)\n",
        "\n",
        "#trainer.train()"
      ],
      "metadata": {
        "colab": {
          "base_uri": "https://localhost:8080/",
          "height": 697
        },
        "id": "WC_Tb5OWm2Ci",
        "executionInfo": {
          "status": "ok",
          "timestamp": 1757754974167,
          "user_tz": -120,
          "elapsed": 234560,
          "user": {
            "displayName": "Nesrine Ben Tmessek",
            "userId": "08058760270954253024"
          }
        },
        "outputId": "d4b50498-3201-453f-80c6-6ba64efe4911"
      },
      "execution_count": 10,
      "outputs": [
        {
          "output_type": "stream",
          "name": "stderr",
          "text": [
            "There were missing keys in the checkpoint model loaded: ['encoder.embed_tokens.weight', 'decoder.embed_tokens.weight', 'lm_head.weight'].\n"
          ]
        },
        {
          "output_type": "display_data",
          "data": {
            "text/plain": [
              "<IPython.core.display.HTML object>"
            ],
            "text/html": [
              "\n",
              "    <div>\n",
              "      \n",
              "      <progress value='6760' max='6760' style='width:300px; height:20px; vertical-align: middle;'></progress>\n",
              "      [6760/6760 03:41, Epoch 5/5]\n",
              "    </div>\n",
              "    <table border=\"1\" class=\"dataframe\">\n",
              "  <thead>\n",
              " <tr style=\"text-align: left;\">\n",
              "      <th>Step</th>\n",
              "      <th>Training Loss</th>\n",
              "      <th>Validation Loss</th>\n",
              "    </tr>\n",
              "  </thead>\n",
              "  <tbody>\n",
              "    <tr>\n",
              "      <td>5950</td>\n",
              "      <td>0.150700</td>\n",
              "      <td>0.176330</td>\n",
              "    </tr>\n",
              "    <tr>\n",
              "      <td>6000</td>\n",
              "      <td>0.159300</td>\n",
              "      <td>0.176205</td>\n",
              "    </tr>\n",
              "    <tr>\n",
              "      <td>6050</td>\n",
              "      <td>0.177100</td>\n",
              "      <td>0.176177</td>\n",
              "    </tr>\n",
              "    <tr>\n",
              "      <td>6100</td>\n",
              "      <td>0.158900</td>\n",
              "      <td>0.174564</td>\n",
              "    </tr>\n",
              "    <tr>\n",
              "      <td>6150</td>\n",
              "      <td>0.171000</td>\n",
              "      <td>0.175182</td>\n",
              "    </tr>\n",
              "    <tr>\n",
              "      <td>6200</td>\n",
              "      <td>0.161100</td>\n",
              "      <td>0.174859</td>\n",
              "    </tr>\n",
              "    <tr>\n",
              "      <td>6250</td>\n",
              "      <td>0.132300</td>\n",
              "      <td>0.174644</td>\n",
              "    </tr>\n",
              "    <tr>\n",
              "      <td>6300</td>\n",
              "      <td>0.177500</td>\n",
              "      <td>0.174370</td>\n",
              "    </tr>\n",
              "    <tr>\n",
              "      <td>6350</td>\n",
              "      <td>0.202900</td>\n",
              "      <td>0.174048</td>\n",
              "    </tr>\n",
              "    <tr>\n",
              "      <td>6400</td>\n",
              "      <td>0.181500</td>\n",
              "      <td>0.173969</td>\n",
              "    </tr>\n",
              "    <tr>\n",
              "      <td>6450</td>\n",
              "      <td>0.157200</td>\n",
              "      <td>0.173445</td>\n",
              "    </tr>\n",
              "    <tr>\n",
              "      <td>6500</td>\n",
              "      <td>0.161700</td>\n",
              "      <td>0.173277</td>\n",
              "    </tr>\n",
              "    <tr>\n",
              "      <td>6550</td>\n",
              "      <td>0.153200</td>\n",
              "      <td>0.173590</td>\n",
              "    </tr>\n",
              "    <tr>\n",
              "      <td>6600</td>\n",
              "      <td>0.160300</td>\n",
              "      <td>0.173813</td>\n",
              "    </tr>\n",
              "    <tr>\n",
              "      <td>6650</td>\n",
              "      <td>0.139700</td>\n",
              "      <td>0.173385</td>\n",
              "    </tr>\n",
              "    <tr>\n",
              "      <td>6700</td>\n",
              "      <td>0.169500</td>\n",
              "      <td>0.172982</td>\n",
              "    </tr>\n",
              "    <tr>\n",
              "      <td>6750</td>\n",
              "      <td>0.144700</td>\n",
              "      <td>0.173287</td>\n",
              "    </tr>\n",
              "  </tbody>\n",
              "</table><p>"
            ]
          },
          "metadata": {}
        },
        {
          "output_type": "execute_result",
          "data": {
            "text/plain": [
              "TrainOutput(global_step=6760, training_loss=0.02075029220101396, metrics={'train_runtime': 222.3495, 'train_samples_per_second': 121.543, 'train_steps_per_second': 30.403, 'total_flos': 914403046195200.0, 'train_loss': 0.02075029220101396, 'epoch': 5.0})"
            ]
          },
          "metadata": {},
          "execution_count": 10
        }
      ]
    },
    {
      "cell_type": "markdown",
      "source": [
        "Insights:\n",
        "- Small gap between train/val → no strong overfitting.  \n",
        "- Validation loss stayed stable → model generalizes well.  \n",
        "- Overall: fine-tuning successful, model learned effectively."
      ],
      "metadata": {
        "id": "XgwlMvOzwbk2"
      }
    },
    {
      "cell_type": "code",
      "source": [
        "model.save_pretrained(\"/content/drive/MyDrive/simplification_model\")\n",
        "tokenizer.save_pretrained(\"/content/drive/MyDrive/simplification_model\")"
      ],
      "metadata": {
        "id": "Kb5ieFlxQr3T",
        "executionInfo": {
          "status": "ok",
          "timestamp": 1757755417429,
          "user_tz": -120,
          "elapsed": 2996,
          "user": {
            "displayName": "Nesrine Ben Tmessek",
            "userId": "08058760270954253024"
          }
        },
        "colab": {
          "base_uri": "https://localhost:8080/"
        },
        "outputId": "2f563572-82b5-4dde-efcf-812994551db6"
      },
      "execution_count": 11,
      "outputs": [
        {
          "output_type": "execute_result",
          "data": {
            "text/plain": [
              "('/content/drive/MyDrive/simplification_model/tokenizer_config.json',\n",
              " '/content/drive/MyDrive/simplification_model/special_tokens_map.json',\n",
              " '/content/drive/MyDrive/simplification_model/spiece.model',\n",
              " '/content/drive/MyDrive/simplification_model/added_tokens.json',\n",
              " '/content/drive/MyDrive/simplification_model/tokenizer.json')"
            ]
          },
          "metadata": {},
          "execution_count": 11
        }
      ]
    }
  ]
}