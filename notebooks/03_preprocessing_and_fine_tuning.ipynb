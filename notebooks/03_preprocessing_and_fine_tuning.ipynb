{
  "nbformat": 4,
  "nbformat_minor": 0,
  "metadata": {
    "colab": {
      "provenance": [],
      "gpuType": "T4"
    },
    "kernelspec": {
      "name": "python3",
      "display_name": "Python 3"
    },
    "language_info": {
      "name": "python"
    },
    "accelerator": "GPU"
  },
  "cells": [
    {
      "cell_type": "markdown",
      "source": [
        "# Preprocessing and Model Fine-tuning\n"
      ],
      "metadata": {
        "id": "NDtM99_pMCAP"
      }
    },
    {
      "cell_type": "code",
      "source": [
        "!pip install -q transformers datasets sentencepiece\n",
        "import pandas as pd\n",
        "import seaborn as sns\n",
        "import re\n",
        "from sklearn.model_selection import train_test_split\n",
        "from transformers import AutoTokenizer, AutoModelForSeq2SeqLM, Seq2SeqTrainer, Seq2SeqTrainingArguments, DataCollatorForSeq2Seq\n",
        "import torch\n",
        "\n",
        "\n",
        "from google.colab import drive\n",
        "drive.mount('/content/drive')\n",
        "\n",
        "df = pd.read_csv(\"/content/drive/MyDrive/all_levels_with_readability.csv\")"
      ],
      "metadata": {
        "colab": {
          "base_uri": "https://localhost:8080/"
        },
        "id": "k83BSKUtN6tV",
        "executionInfo": {
          "status": "ok",
          "timestamp": 1757754629752,
          "user_tz": -120,
          "elapsed": 14889,
          "user": {
            "displayName": "Nesrine Ben Tmessek",
            "userId": "08058760270954253024"
          }
        },
        "outputId": "4320a8c7-46a0-4c99-a083-b47b8fefe0a0"
      },
      "execution_count": 3,
      "outputs": [
        {
          "output_type": "stream",
          "name": "stdout",
          "text": [
            "Mounted at /content/drive\n"
          ]
        }
      ]
    },
    {
      "cell_type": "markdown",
      "source": [
        "## Data Cleaning"
      ],
      "metadata": {
        "id": "qJecL9UvNpSv"
      }
    },
    {
      "cell_type": "code",
      "source": [
        "def clean_text(text):\n",
        "    text = text.strip()  # remove leading/trailing spaces\n",
        "    text = text.lower()  # lowercase\n",
        "    text = re.sub(r'\\s+', ' ', text)  # collapse multiple spaces\n",
        "    text = re.sub(r'[^\\x00-\\x7F]+', '', text)  # remove non-ASCII (optional)\n",
        "    return text\n",
        "\n",
        "# Apply cleaning\n",
        "df['source_text'] = df['source_text'].apply(clean_text)\n",
        "df['target_text'] = df['target_text'].apply(clean_text)"
      ],
      "metadata": {
        "id": "DW8p2ZlCMzUd",
        "executionInfo": {
          "status": "ok",
          "timestamp": 1757754636718,
          "user_tz": -120,
          "elapsed": 350,
          "user": {
            "displayName": "Nesrine Ben Tmessek",
            "userId": "08058760270954253024"
          }
        }
      },
      "execution_count": 4,
      "outputs": []
    },
    {
      "cell_type": "markdown",
      "source": [
        "## Train/Test split"
      ],
      "metadata": {
        "id": "roxn_mwmOCsT"
      }
    },
    {
      "cell_type": "code",
      "source": [
        "train_df, val_df = train_test_split(df, test_size=0.1, random_state=42)\n",
        "print(\"Train size:\", train_df.shape)\n",
        "print(\"Validation size:\", val_df.shape)"
      ],
      "metadata": {
        "colab": {
          "base_uri": "https://localhost:8080/"
        },
        "id": "1K8PSitLOC8X",
        "executionInfo": {
          "status": "ok",
          "timestamp": 1757754637671,
          "user_tz": -120,
          "elapsed": 19,
          "user": {
            "displayName": "Nesrine Ben Tmessek",
            "userId": "08058760270954253024"
          }
        },
        "outputId": "73e8c4eb-d03e-461d-a0bb-3a1743c0b9c5"
      },
      "execution_count": 5,
      "outputs": [
        {
          "output_type": "stream",
          "name": "stdout",
          "text": [
            "Train size: (5405, 8)\n",
            "Validation size: (601, 8)\n"
          ]
        }
      ]
    },
    {
      "cell_type": "markdown",
      "source": [
        "## Load Pre-trained Simplification Model (T5-small)"
      ],
      "metadata": {
        "id": "5ZKPubX6OX7c"
      }
    },
    {
      "cell_type": "code",
      "source": [
        "MODEL_NAME = \"t5-small\"  # smaller model for Colab free GPU\n",
        "tokenizer = AutoTokenizer.from_pretrained(MODEL_NAME)\n",
        "model = AutoModelForSeq2SeqLM.from_pretrained(MODEL_NAME)"
      ],
      "metadata": {
        "colab": {
          "base_uri": "https://localhost:8080/",
          "height": 333,
          "referenced_widgets": [
            "f83c0a0490ef4abcbddcfadf935d6003",
            "da48462346f946ee87470e489ca858cd",
            "c817e19f9a044a97bd9c9e266ab8d8f4",
            "54560afcf294492891171e